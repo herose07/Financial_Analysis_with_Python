{
 "cells": [
  {
   "cell_type": "code",
   "execution_count": 243,
   "metadata": {},
   "outputs": [],
   "source": [
    "from pathlib import Path\n",
    "import csv\n",
    "budget_data_path = Path('../Pybank/budget_data.csv')"
   ]
  },
  {
   "cell_type": "code",
   "execution_count": 244,
   "metadata": {},
   "outputs": [],
   "source": [
    "profits = []\n",
    "months = []\n",
    "profit_change = []\n",
    "\n",
    "total_profit = 0\n",
    "\n",
    "with open(budget_data_path, 'r') as csvfile:\n",
    "    csvreader = csv.reader(csvfile, delimiter=',')\n",
    "    csvheader = next(csvreader)\n",
    "    \n",
    "    for row in csvreader:\n",
    "        months.append(row[0])\n",
    "        profits.append(row[1])\n",
    "        total_profit = total_profit + int(row[1])\n",
    "    total_months=(len(months))   \n",
    "    \n",
    "    i=0\n",
    "    for i in range(len(profits) -1):\n",
    "        profit_loss = int(profits[i+1]) - int(profits[i])\n",
    "        profit_change.append(profit_loss)\n",
    "        total_profit_change = sum(profit_change)\n",
    "        average_change_profits = total_profit_change/(len(profit_change))\n",
    "        \n",
    "greatest_profit_increase = max(profit_change)\n",
    "greatest_profit_decrease = min(profit_change)\n",
    "\n",
    "increase_date = profit_change.index(greatest_profit_increase)\n",
    "month_increase = months[increase_date + 1]\n",
    "\n",
    "decrease_date = profit_change.index(greatest_profit_decrease)\n",
    "month_decrease = months[decrease_date + 1 ]\n"
   ]
  },
  {
   "cell_type": "code",
   "execution_count": 248,
   "metadata": {},
   "outputs": [
    {
     "name": "stdout",
     "output_type": "stream",
     "text": [
      "Financial Analysis\n",
      "-----------------------------------\n",
      "Total Months: 86\n",
      "Total: 38382578\n",
      "Average Change: -2315.1176470588234\n",
      "Greatest Increase in Profits: Feb-2012 $1926159\n",
      "Greatest Decrease in Profits: Sep-2013 $-2196167\n"
     ]
    }
   ],
   "source": [
    "print(\"Financial Analysis\")\n",
    "print(\"-----------------------------------\")\n",
    "print(f\"Total Months: {total_months}\")\n",
    "print(f\"Total: {total_profit}\")\n",
    "print(f\"Average Change: {average_change_profits}\")\n",
    "print(f\"Greatest Increase in Profits: {month_increase} ${greatest_profit_increase}\")\n",
    "print(f\"Greatest Decrease in Profits: {month_decrease} ${greatest_profit_decrease}\")\n"
   ]
  },
  {
   "cell_type": "code",
   "execution_count": 247,
   "metadata": {},
   "outputs": [
    {
     "name": "stdout",
     "output_type": "stream",
     "text": [
      "Financial Analysis-----------------------------------Total Months: 86Total: 38382578Average Change: -2315.1176470588234Greatest Increase in Profits: Feb-2012 $1926159Greatest Decrease in Profits: Sep-2013 $-2196167\n"
     ]
    }
   ],
   "source": []
  },
  {
   "cell_type": "code",
   "execution_count": null,
   "metadata": {},
   "outputs": [],
   "source": []
  },
  {
   "cell_type": "code",
   "execution_count": null,
   "metadata": {},
   "outputs": [],
   "source": []
  },
  {
   "cell_type": "code",
   "execution_count": null,
   "metadata": {},
   "outputs": [],
   "source": []
  },
  {
   "cell_type": "code",
   "execution_count": null,
   "metadata": {},
   "outputs": [],
   "source": []
  },
  {
   "cell_type": "code",
   "execution_count": null,
   "metadata": {},
   "outputs": [],
   "source": []
  },
  {
   "cell_type": "code",
   "execution_count": null,
   "metadata": {},
   "outputs": [],
   "source": []
  },
  {
   "cell_type": "code",
   "execution_count": null,
   "metadata": {},
   "outputs": [],
   "source": []
  }
 ],
 "metadata": {
  "kernelspec": {
   "display_name": "Python 3",
   "language": "python",
   "name": "python3"
  },
  "language_info": {
   "codemirror_mode": {
    "name": "ipython",
    "version": 3
   },
   "file_extension": ".py",
   "mimetype": "text/x-python",
   "name": "python",
   "nbconvert_exporter": "python",
   "pygments_lexer": "ipython3",
   "version": "3.7.6"
  }
 },
 "nbformat": 4,
 "nbformat_minor": 4
}
