{
 "cells": [
  {
   "cell_type": "code",
   "execution_count": 417,
   "metadata": {},
   "outputs": [],
   "source": [
    "# Import libraries and dependencies\n",
    "from pathlib import Path\n",
    "import csv"
   ]
  },
  {
   "cell_type": "code",
   "execution_count": 418,
   "metadata": {},
   "outputs": [],
   "source": [
    "# Set File Path\n",
    "budget_data_path = Path('../Pybank/budget_data.csv')"
   ]
  },
  {
   "cell_type": "code",
   "execution_count": 419,
   "metadata": {},
   "outputs": [],
   "source": [
    "# Create empty lists to store rows of data\n",
    "profits = []\n",
    "months = []\n",
    "profit_change = []"
   ]
  },
  {
   "cell_type": "code",
   "execution_count": 420,
   "metadata": {},
   "outputs": [],
   "source": [
    "# Total profit variable set to 0\n",
    "total_profit = 0"
   ]
  },
  {
   "cell_type": "code",
   "execution_count": 421,
   "metadata": {},
   "outputs": [],
   "source": [
    "# Open csv file and read the file\n",
    "with open(budget_data_path, 'r') as csvfile:\n",
    "    csvreader = csv.reader(csvfile, delimiter=',')\n",
    "# Skip Header Row\n",
    "    csvheader = next(csvreader)\n",
    "\n",
    "# For loop to calculate the total number of months and total profit. Append data from row 0 and 1 into into the lists of months and profits, respectively.    \n",
    "    for row in csvreader:\n",
    "        months.append(row[0])\n",
    "        profits.append(row[1])\n",
    "        total_profit = total_profit + int(row[1])\n",
    "    total_months = (len(months))   \n",
    "\n",
    "# For loop to calculate average changes of profits over the entire period \n",
    "    profit = 0\n",
    "    for profit in range(len(profits) -1):\n",
    "        profit_diff = int(profits[profit+1]) - int(profits[profit])\n",
    "# Append the differences between each monthly profit to the profit change list\n",
    "        profit_change.append(profit_diff)\n",
    "# Sum function to add everything inside the profit change list\n",
    "        total_profit_change = sum(profit_change)\n",
    "        average_change_profits = total_profit_change/(len(profit_change))"
   ]
  },
  {
   "cell_type": "code",
   "execution_count": 422,
   "metadata": {},
   "outputs": [],
   "source": [
    "# max and min function on our profit change list to calculate the greatest increase and decrease in profits over the entire period      \n",
    "greatest_profit_increase = max(profit_change)\n",
    "greatest_profit_decrease = min(profit_change)\n",
    "\n",
    "# Index function on profit change list to determine the date of the greatest increase and decrease in profits\n",
    "increase_date = profit_change.index(greatest_profit_increase)\n",
    "month_increase = months[increase_date + 1]\n",
    "\n",
    "decrease_date = profit_change.index(greatest_profit_decrease)\n",
    "month_decrease = months[decrease_date + 1 ]"
   ]
  },
  {
   "cell_type": "code",
   "execution_count": 423,
   "metadata": {},
   "outputs": [
    {
     "name": "stdout",
     "output_type": "stream",
     "text": [
      "Financial Analysis\n",
      "-----------------------------------\n",
      "Total Months: 86\n",
      "Total: 38382578\n",
      "Average Change: -2315.1176470588234\n",
      "Greatest Increase in Profits: Feb-2012 $1926159\n",
      "Greatest Decrease in Profits: Sep-2013 $-2196167\n"
     ]
    }
   ],
   "source": [
    "# Output\n",
    "print(\"Financial Analysis\")\n",
    "print(\"-----------------------------------\")\n",
    "print(f\"Total Months: {total_months}\")\n",
    "print(f\"Total: {total_profit}\")\n",
    "print(f\"Average Change: {average_change_profits}\")\n",
    "print(f\"Greatest Increase in Profits: {month_increase} ${greatest_profit_increase}\")\n",
    "print(f\"Greatest Decrease in Profits: {month_decrease} ${greatest_profit_decrease}\")\n"
   ]
  },
  {
   "cell_type": "code",
   "execution_count": 424,
   "metadata": {},
   "outputs": [],
   "source": [
    "# Write to text file\n",
    "results = (\n",
    "\"Financial Analysis /n\"\n",
    "\"----------------------------------- /n\"\n",
    "f\"Total Months: {total_months} /n\"\n",
    "f\"Total: {total_profit} /n\"\n",
    "f\"Average Change: {average_change_profits} /n\"\n",
    "f\"Greatest Increase in Profits: {month_increase} ${greatest_profit_increase} /n\"\n",
    "f\"Greatest Decrease in Profits: {month_decrease} ${greatest_profit_decrease} /n\")\n",
    "\n",
    "with open(\"financial_analysis.txt\", \"w\") as txt_file:\n",
    "    txt_file.write(results)"
   ]
  },
  {
   "cell_type": "code",
   "execution_count": null,
   "metadata": {},
   "outputs": [],
   "source": []
  },
  {
   "cell_type": "code",
   "execution_count": null,
   "metadata": {},
   "outputs": [],
   "source": []
  },
  {
   "cell_type": "code",
   "execution_count": null,
   "metadata": {},
   "outputs": [],
   "source": []
  },
  {
   "cell_type": "code",
   "execution_count": null,
   "metadata": {},
   "outputs": [],
   "source": []
  },
  {
   "cell_type": "code",
   "execution_count": null,
   "metadata": {},
   "outputs": [],
   "source": []
  },
  {
   "cell_type": "code",
   "execution_count": null,
   "metadata": {},
   "outputs": [],
   "source": []
  },
  {
   "cell_type": "code",
   "execution_count": null,
   "metadata": {},
   "outputs": [],
   "source": []
  }
 ],
 "metadata": {
  "kernelspec": {
   "display_name": "Python 3",
   "language": "python",
   "name": "python3"
  },
  "language_info": {
   "codemirror_mode": {
    "name": "ipython",
    "version": 3
   },
   "file_extension": ".py",
   "mimetype": "text/x-python",
   "name": "python",
   "nbconvert_exporter": "python",
   "pygments_lexer": "ipython3",
   "version": "3.7.6"
  }
 },
 "nbformat": 4,
 "nbformat_minor": 4
}
